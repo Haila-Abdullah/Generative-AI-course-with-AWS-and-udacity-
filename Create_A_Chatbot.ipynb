{
  "nbformat": 4,
  "nbformat_minor": 0,
  "metadata": {
    "colab": {
      "provenance": [],
      "toc_visible": true,
      "authorship_tag": "ABX9TyPtkz7rWP3X3HEyIcn6Z2HB",
      "include_colab_link": true
    },
    "kernelspec": {
      "name": "python3",
      "display_name": "Python 3"
    },
    "language_info": {
      "name": "python"
    }
  },
  "cells": [
    {
      "cell_type": "markdown",
      "metadata": {
        "id": "view-in-github",
        "colab_type": "text"
      },
      "source": [
        "<a href=\"https://colab.research.google.com/github/Haila-Abdullah/Generative-AI-course-with-AWS-and-udacity-/blob/main/Create_A_Chatbot.ipynb\" target=\"_parent\"><img src=\"https://colab.research.google.com/assets/colab-badge.svg\" alt=\"Open In Colab\"/></a>"
      ]
    },
    {
      "cell_type": "markdown",
      "source": [
        "## **Create A Chatbot**"
      ],
      "metadata": {
        "id": "5llD7qp1xElp"
      }
    },
    {
      "cell_type": "markdown",
      "source": [
        "**we created a very simple chatbot with an interactive loop that:**\n",
        "\n",
        "- Continuously accepts input from the user.\n",
        "- Processes the input.\n",
        "- Responds until the user decides to end the conversation by typing \"quit\"."
      ],
      "metadata": {
        "id": "72eBsPCnxeC-"
      }
    },
    {
      "cell_type": "code",
      "execution_count": 4,
      "metadata": {
        "colab": {
          "base_uri": "https://localhost:8080/"
        },
        "id": "YMvWnp86wuqB",
        "outputId": "6a056d91-2bac-486a-f5f8-04e8be6c3554"
      },
      "outputs": [
        {
          "output_type": "stream",
          "name": "stdout",
          "text": [
            "You: hi\n",
            "Bot: Hello there! How can I assist you today?\n",
            "You: how are you\n",
            "Bot: I'm a bot, so I don't have feelings, but I'm functioning properly!\n",
            "You: help\n",
            "Bot: Sure, I can help you. What do you need assistance with?\n",
            "You: bye\n",
            "Bot: Goodbye! Have a great day!\n",
            "You: quit\n",
            "Bot: Goodbye!\n"
          ]
        }
      ],
      "source": [
        "# Define a dictionary with predefined responses\n",
        "responses = {\n",
        "    \"hi\": \"Hello there! How can I assist you today?\",\n",
        "    \"how are you\": \"I'm a bot, so I don't have feelings, but I'm functioning properly!\",\n",
        "    \"bye\": \"Goodbye! Have a great day!\",\n",
        "    \"help\": \"Sure, I can help you. What do you need assistance with?\",\n",
        "}\n",
        "\n",
        "# Function to get the bot response\n",
        "def get_bot_response(user_input):\n",
        "    # Make the input lowercase to match the dictionary keys\n",
        "    user_input = user_input.lower()\n",
        "\n",
        "    # Return the matching response if it exists, otherwise return a default response\n",
        "    return responses.get(user_input, \"I'm not sure how to respond to that. Can you try asking something else?\")\n",
        "\n",
        "# Main chat loop\n",
        "while True:\n",
        "    user_input = input(\"You: \")\n",
        "    if user_input.lower() == \"quit\":\n",
        "        print(\"Bot: Goodbye!\")\n",
        "        break\n",
        "\n",
        "    response = get_bot_response(user_input)\n",
        "    print(f\"Bot: {response}\")"
      ]
    }
  ]
}